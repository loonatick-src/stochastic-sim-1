{
 "cells": [
  {
   "cell_type": "code",
   "execution_count": 8,
   "metadata": {},
   "outputs": [],
   "source": [
    "import numpy as np\n",
    "from numba import jit, vectorize, float64, prange\n",
    "from timeit import default_timer as timer\n",
    "import matplotlib.pyplot as plt\n",
    "import matplotlib as mpl\n",
    "import sys\n",
    "from os.path import exists\n",
    "\n",
    "mpl.rcParams[\"figure.dpi\"] = 180\n",
    "mpl.rcParams[\"legend.fontsize\"] = 11\n",
    "mpl.rcParams[\"font.size\"] = 11\n",
    "plt.rc(\"text\", usetex=True)\n",
    "plt.rc(\"text.latex\", preamble=r\"\"\"\n",
    "\\usepackage{palatino}\n",
    "\\usepackage{newpxmath}\"\"\")\n",
    "plt.rc(\"font\", family=\"serif\")"
   ]
  },
  {
   "cell_type": "code",
   "execution_count": 9,
   "metadata": {},
   "outputs": [],
   "source": [
    "@jit(nopython = True)\n",
    "def default_escape_cond(z):\n",
    "    return np.abs(z) >= 2\n",
    "\n",
    "@jit(nopython = True)\n",
    "def main_cardioid(arg):\n",
    "    point = 0.5 * np.exp(1j*arg) - 0.25 * np.exp(2*1j*arg)\n",
    "    return np.abs(point)\n",
    "\n",
    "@jit(nopython = True)\n",
    "def cardioid_escape_cond(z):\n",
    "    if np.abs(z) <= main_cardioid(z.)\n",
    "\n",
    "def mandelbrot_batch_factory(escape_condition):\n",
    "    @jit(nopython = True, parallel = True, nogil = True)\n",
    "    def _mandelbrot_mc(max_iter, samples):\n",
    "        iter_counts = np.zeros(len(samples), dtype = np.int32)\n",
    "        for i in prange(len(samples)):\n",
    "            c = samples[i]\n",
    "            zn = c\n",
    "            for count in range(max_iter):\n",
    "                zn = zn * zn + c\n",
    "                if (escape_condition(zn)):\n",
    "                    iter_counts[i] = count\n",
    "                    break\n",
    "                elif count == max_iter - 1:\n",
    "                    iter_counts[i] = count\n",
    "        return iter_counts\n",
    "    return _mandelbrot_mc\n",
    "\n",
    "mandelbrot_mc_default = mandelbrot_batch_factory(default_escape_cond)\n",
    "\n",
    "def create_batch_uniform(N, re_low, re_high, im_low, im_high):\n",
    "    samples_re = np.random.uniform(low = re_low, high = re_high, size = N)\n",
    "    samples_im = np.random.uniform(low = im_low, high = im_high, size = N)\n",
    "    samples = samples_re + 1j*samples_im\n",
    "    return samples"
   ]
  },
  {
   "cell_type": "code",
   "execution_count": 10,
   "metadata": {},
   "outputs": [],
   "source": [
    "@jit(nopython = True)\n",
    "def set_count_from_iter_counts(max_iter, iter_counts):\n",
    "    set_count = 0\n",
    "    for count in iter_counts:\n",
    "        if count == max_iter - 1:\n",
    "            set_count += 1\n",
    "    return set_count\n",
    "\n",
    "@jit(nopython = True)\n",
    "def area_from_iter_counts(re_low, re_high, im_low, im_high, iter_counts, max_iter):\n",
    "    n = len(iter_counts)\n",
    "    set_count = set_count_from_iter_counts(max_iter, iter_counts)\n",
    "    domain_area = (re_high - re_low) * (im_low - im_high)\n",
    "    return domain_area * set_count / n"
   ]
  },
  {
   "cell_type": "code",
   "execution_count": 11,
   "metadata": {},
   "outputs": [],
   "source": [
    "@jit(nopython = True, parallel = True, nogil = True)\n",
    "def mandelbrot_mc(max_iter, samples):\n",
    "    \"\"\"\n",
    "    Counts the number of complex numbers in `samples` that do\n",
    "    not meet the escape condition in `max_iter` recursions of\n",
    "    the Mandelbrot polynomial, z(n+1) = z(n)^2 + c\n",
    "    \n",
    "    The escape condition used is |z(n)| >= 2\n",
    "    \n",
    "    Parameters\n",
    "    ----------\n",
    "    max_iter: positive integer\n",
    "        Value of n up to which z(n) is evaluated\n",
    "    \n",
    "    samples: array of complex numbers\n",
    "        values of z(0)\n",
    "        \n",
    "    Returns\n",
    "    -------\n",
    "    set_count: positive integer\n",
    "        Number of complex numbers in `samples` that remain\n",
    "        that do not satisfy the escape condition\n",
    "    \"\"\"\n",
    "    set_count = 0\n",
    "    for i in prange(len(samples)):\n",
    "        c = samples[i]\n",
    "        zn = c\n",
    "        for j in range(1, max_iter):\n",
    "            zn = zn*zn + c\n",
    "            if (np.abs(zn) > 2):\n",
    "                # numba should recognize this as a critical section\n",
    "                break\n",
    "            elif j == max_iter - 1:\n",
    "                set_count += 1\n",
    "    return set_count\n",
    "\n",
    "@jit(nopython = True, nogil = True, parallel = True)\n",
    "def mandelbrot_mc_area(re_low, re_high, im_low, im_high, max_iter, samples):\n",
    "    \"\"\"\n",
    "    Calculates estimator of the area of the Mandelbrot set\n",
    "    \n",
    "    Parameters\n",
    "    ----------\n",
    "    re_low, re_high, im_low, im_high: float or float-like\n",
    "        corners of bounding rectangle in the complex plane\n",
    "    \n",
    "    max_iter: positive integer\n",
    "        value of n up to which z(n) is evaluated\n",
    "    \n",
    "    samples: array of complex numbers\n",
    "        list of c values, assumed to be drawn from a uniform distribution\n",
    "        in the bounding region\n",
    "        \n",
    "    Returns\n",
    "    -------\n",
    "    area: default numpy float (float32 or float64)\n",
    "        estimate of the area of the mandelbrot set\n",
    "    \"\"\"\n",
    "    count = mandelbrot_mc(max_iter, samples)\n",
    "    return mandelbrot_area(count, len(samples), re_low, re_high, im_low, im_high)\n",
    "\n",
    "@jit(nopython = True)\n",
    "def mandelbrot_area(count, N, re_low, re_high, im_low, im_high):\n",
    "    \"\"\"\n",
    "    TODO: Add docstring\n",
    "    \"\"\"\n",
    "    rect_area = (re_high - re_low) * (im_high - im_low)\n",
    "    return rect_area * count / N\n",
    "\n",
    "@jit(nopython = True)\n",
    "def mandelbrot_mc_runs(max_iter, samples, runs_count):\n",
    "    counts = np.zeros(runs_count)\n",
    "    for _ in range(runs_count):\n",
    "        counts[i] = mandelbrot_mc(max_iter, samples)\n",
    "    return counts\n",
    "\n",
    "@jit(nopython = True)\n",
    "def sample_mean_variance(counts):\n",
    "    \"\"\"Returns sample mean and sample variance of input array\n",
    "    Parameters\n",
    "    ----------\n",
    "    counts: array of numbers\n",
    "    \n",
    "    Returns: 2-tuple (sample mean, sample variance)\n",
    "    \"\"\"\n",
    "    n = len(counts)\n",
    "    assert n > 1\n",
    "    sample_mean = np.mean(counts)\n",
    "    sample_variance = np.sum(np.power(counts - sample_mean, 2))/(n - 1)\n",
    "    return (sample_mean, sample_variance)"
   ]
  },
  {
   "cell_type": "code",
   "execution_count": 12,
   "metadata": {},
   "outputs": [],
   "source": [
    "N = 10**6\n",
    "i = 1000\n",
    "re_low, re_high = -2., 1.\n",
    "im_low, im_high = -1.5, 1.5\n",
    "area = (re_high - re_low) * (im_high - im_low)\n",
    "samples = create_batch_uniform(N, re_low, re_high, im_low, im_high)"
   ]
  },
  {
   "cell_type": "code",
   "execution_count": 15,
   "metadata": {},
   "outputs": [
    {
     "name": "stdout",
     "output_type": "stream",
     "text": [
      "Execution time: 0.24 seconds\n"
     ]
    }
   ],
   "source": [
    "start_time = timer()\n",
    "count = mandelbrot_mc_default(i, samples)\n",
    "end_time = timer()\n",
    "print(f\"Execution time: {np.round(end_time - start_time, 2)} seconds\")"
   ]
  },
  {
   "cell_type": "code",
   "execution_count": 17,
   "metadata": {},
   "outputs": [],
   "source": [
    "# [WARN]: On Linux Mint 20, 16GB RAM, 2GB swap space, the kernel crashes as it runs out of memory for N = 1.0e9\n",
    "N = 10**8\n",
    "# TODO: save large random arrays\n",
    "np.random.seed(10010)\n",
    "samples = create_batch_uniform(N, re_low, re_high, im_low, im_high)"
   ]
  },
  {
   "cell_type": "code",
   "execution_count": 18,
   "metadata": {},
   "outputs": [
    {
     "name": "stdout",
     "output_type": "stream",
     "text": [
      "26.377349419999973\n",
      "[1.8e-07 9.0e-08 9.0e-08 ... 4.5e-07 0.0e+00 9.0e-08]\n"
     ]
    }
   ],
   "source": [
    "start_time = timer()\n",
    "count = mandelbrot_mc_default(i,samples)\n",
    "end_time = timer()\n",
    "print(end_time - start_time)"
   ]
  },
  {
   "cell_type": "markdown",
   "metadata": {},
   "source": [
    "For a fixed $i$, $\\lim_{s\\to\\infty}A_{i,s} = A_i > A_\\text{M}$, i.e. we are essentially calculating the area of a superset of the Mandelbrot set, one that includes points that would have met the escape condition after $i$ iterations.\n",
    "\n",
    "Given a strictly increasing sequence of $i$-values $\\{i_1, i_2, \\ldots i_n\\}$, we would like to pick $i = i_k$ for the smallest $k$ such that $|A_{k+1} - A_{k}|$ is less than some threshold value.\n",
    "\n",
    "Henceforth, we simulate only the top half of the mandelbrot set."
   ]
  },
  {
   "cell_type": "code",
   "execution_count": 25,
   "metadata": {},
   "outputs": [
    {
     "name": "stdout",
     "output_type": "stream",
     "text": [
      "Execution time = {end_time - start_time}\n"
     ]
    }
   ],
   "source": [
    "if not exists(\"monte_carlo_random_sampling.npz\"):\n",
    "    i_values = np.array([50, 100, 200, 500, 1000, 2000], dtype = np.int64) #TODO: tweak values\n",
    "    s_values = np.array([10**i for i in range(4,9)], dtype = np.int64)\n",
    "\n",
    "    re_low, re_high = -2., 1.\n",
    "    im_low, im_high = 0, 1.5\n",
    "\n",
    "    number_of_batches = 20\n",
    "    mean_areas = np.zeros((len(i_values), len(s_values)))\n",
    "    sample_variances = np.zeros((len(i_values), len(s_values)))\n",
    "\n",
    "    start_time = timer()\n",
    "    for k,i in enumerate(i_values):\n",
    "        # repeat `number_of_batches` times for each s-value\n",
    "        for l,s in enumerate(s_values):\n",
    "            areas_batch = np.zeros(number_of_batches)\n",
    "            for j in range(number_of_batches):\n",
    "                samples = create_batch_uniform(s, re_low, re_high, im_low, im_high)\n",
    "                iter_counts = mandelbrot_mc_default(i, samples)\n",
    "                est_area = area_from_iter_counts(re_low, re_high, im_low, im_high, iter_counts, i)\n",
    "                areas_batch[j] = est_area\n",
    "            μ, svar = sample_mean_variance(areas_batch)\n",
    "            mean_areas[k][l] = μ\n",
    "            sample_variances[k][l] = svar\n",
    "    end_time = timer()\n",
    "    np.savez(\"monte_carlo_random_sampling.npz\", mean_areas, sample_variances)\n",
    "else:\n",
    "    save_data = np.load(\"monte_carlo_random_sampling.npz\")\n",
    "    mean_areas = save_data['arr_0']\n",
    "    sample_variances = save_data['arr_1']"
   ]
  },
  {
   "cell_type": "code",
   "execution_count": 37,
   "metadata": {},
   "outputs": [
    {
     "name": "stdout",
     "output_type": "stream",
     "text": [
      "True\n"
     ]
    }
   ],
   "source": [
    "file_exists = exists(\"monte_carlo_random_sampling.npz\")"
   ]
  }
 ],
 "metadata": {
  "kernelspec": {
   "display_name": "Python 3",
   "language": "python",
   "name": "python3"
  },
  "language_info": {
   "codemirror_mode": {
    "name": "ipython",
    "version": 3
   },
   "file_extension": ".py",
   "mimetype": "text/x-python",
   "name": "python",
   "nbconvert_exporter": "python",
   "pygments_lexer": "ipython3",
   "version": "3.8.5"
  }
 },
 "nbformat": 4,
 "nbformat_minor": 4
}
