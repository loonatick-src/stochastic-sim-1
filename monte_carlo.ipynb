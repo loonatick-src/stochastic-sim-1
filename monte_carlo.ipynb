{
 "cells": [
  {
   "cell_type": "code",
   "execution_count": 9,
   "metadata": {},
   "outputs": [],
   "source": [
    "import numpy as np\n",
    "from numba import jit, vectorize, float64, prange\n",
    "from timeit import default_timer as timer\n",
    "import matplotlib.pyplot as plt"
   ]
  },
  {
   "cell_type": "code",
   "execution_count": 16,
   "metadata": {},
   "outputs": [],
   "source": [
    "@jit(nopython = True)\n",
    "def default_escape_cond(z):\n",
    "    return np.abs(z) >= 2\n",
    "\n",
    "def mandelbrot_batch_factory(escape_condition):\n",
    "    @jit(nopython = True, parallel = True, nogil = True)\n",
    "    def _mandelbrot_mc(max_iter, samples, iter_counts):\n",
    "        for i in prange(len(samples)):\n",
    "            c = samples[i]\n",
    "            zn = c\n",
    "            for count in range(max_iter):\n",
    "                zn = zn * zn + c\n",
    "                if (escape_condition(zn)):\n",
    "                    iter_counts[i] = count\n",
    "                    break\n",
    "                elif count == max_iter - 1:\n",
    "                    iter_counts[i] = count\n",
    "    return _mandelbrot_mc\n",
    "\n",
    "mandelbrot_mc_default = mandelbrot_batch_factory(default_escape_cond)"
   ]
  },
  {
   "cell_type": "code",
   "execution_count": 17,
   "metadata": {},
   "outputs": [],
   "source": [
    "@jit(nopython = True, parallel = True, nogil = True)\n",
    "def mandelbrot_mc(max_iter, samples):\n",
    "    \"\"\"\n",
    "    Counts the number of complex numbers in `samples` that do\n",
    "    not meet the escape condition in `max_iter` recursions of\n",
    "    the Mandelbrot polynomial, z(n+1) = z(n)^2 + c\n",
    "    \n",
    "    The escape condition used is |z(n)| >= 2\n",
    "    \n",
    "    Parameters\n",
    "    ----------\n",
    "    max_iter: positive integer\n",
    "        Value of n up to which z(n) is evaluated\n",
    "    \n",
    "    samples: array of complex numbers\n",
    "        values of z(0)\n",
    "        \n",
    "    Returns\n",
    "    -------\n",
    "    set_count: positive integer\n",
    "        Number of complex numbers in `samples` that remain\n",
    "        that do not satisfy the escape condition\n",
    "    \"\"\"\n",
    "    set_count = 0\n",
    "    for i in prange(len(samples)):\n",
    "        c = samples[i]\n",
    "        zn = c\n",
    "        for j in range(1, max_iter):\n",
    "            zn = zn*zn + c\n",
    "            if (np.abs(zn) > 2):\n",
    "                # numba should recognize this as a critical section\n",
    "                break\n",
    "            elif j == max_iter - 1:\n",
    "                set_count += 1\n",
    "    return set_count\n",
    "\n",
    "@jit(nopython = True, nogil = True, parallel = True)\n",
    "def mandelbrot_mc_area(re_low, re_high, im_low, im_high, max_iter, samples):\n",
    "    \"\"\"\n",
    "    Calculates estimator of the area of the Mandelbrot set\n",
    "    \n",
    "    Parameters\n",
    "    ----------\n",
    "    re_low, re_high, im_low, im_high: float or float-like\n",
    "        corners of bounding rectangle in the complex plane\n",
    "    \n",
    "    max_iter: positive integer\n",
    "        value of n up to which z(n) is evaluated\n",
    "    \n",
    "    samples: array of complex numbers\n",
    "        list of c values, assumed to be drawn from a uniform distribution\n",
    "        in the bounding region\n",
    "        \n",
    "    Returns\n",
    "    -------\n",
    "    area: default numpy float (float32 or float64)\n",
    "        estimate of the area of the mandelbrot set\n",
    "    \"\"\"\n",
    "    count = mandelbrot_mc(max_iter, samples)\n",
    "    return mandelbrot_area(count, len(samples), re_low, re_high, im_low, im_high)\n",
    "\n",
    "@jit(nopython = True)\n",
    "def mandelbrot_area(count, N, re_low, re_high, im_low, im_high):\n",
    "    \"\"\"\n",
    "    TODO: Add docstring\n",
    "    \"\"\"\n",
    "    rect_area = (re_high - re_low) * (im_high - im_low)\n",
    "    return rect_area * count / N\n",
    "\n",
    "@jit(nopython = True)\n",
    "def mandelbrot_mc_runs(max_iter, samples, runs_count):\n",
    "    counts = np.zeros(runs_count)\n",
    "    for _ in range(runs_count):\n",
    "        counts[i] = mandelbrot_mc(max_iter, samples)\n",
    "    return counts\n",
    "\n",
    "@jit(nopython = True)\n",
    "def sample_mean_variance(counts):\n",
    "    \"\"\"Returns sample mean and sample variance of input array\n",
    "    Parameters\n",
    "    ----------\n",
    "    counts: array of numbers\n",
    "    \n",
    "    Returns: 2-tuple (sample mean, sample variance)\n",
    "    \"\"\"\n",
    "    n = len(counts)\n",
    "    assert n > 1\n",
    "    sample_mean = np.mean(counts)\n",
    "    sample_variance = np.sum(np.power(counts - sample_mean, 2))/(n - 1)\n",
    "    return (sample_mean, sample_variance)\n",
    "\n",
    "# def vary_iter_counts(max_iters, max_iter, samples_count,\n",
    "#                      re_low, re_hi, im_low, im_hi, runs_count):\n",
    "#     for i in max_iters:\n",
    "#         samples_re = np.random.uniform(low = re_low, high = re_hi, size = samples_count)\n",
    "#         samples_re = np.random.uniform(low = im_low, high = im_hi, size = samples_count)\n",
    "#         samples = samples_re + 1j*samples_im\n",
    "        \n",
    "    "
   ]
  },
  {
   "cell_type": "code",
   "execution_count": 18,
   "metadata": {},
   "outputs": [],
   "source": [
    "N = 10**6  # Full HD Mandelbrot set\n",
    "i = 1000\n",
    "re_low, re_high = -2., 1.\n",
    "im_low, im_high = -1.5, 1.5\n",
    "area = (re_high - re_low) * (im_high - im_low)\n",
    "np.random.seed(2398475)\n",
    "samples_re = np.random.uniform(low = re_low, high = re_high, size = N)\n",
    "samples_im = np.random.uniform(low = im_low, high = im_high, size = N)\n",
    "samples = samples_re + 1j*samples_im\n",
    "del samples_re\n",
    "del samples_im\n",
    "iter_counts = np.zeros(N)"
   ]
  },
  {
   "cell_type": "code",
   "execution_count": 20,
   "metadata": {},
   "outputs": [
    {
     "name": "stdout",
     "output_type": "stream",
     "text": [
      "Execution time: 0.24 seconds\n"
     ]
    }
   ],
   "source": [
    "start_time = timer()\n",
    "count = mandelbrot_mc_default(i, samples, iter_counts)\n",
    "end_time = timer()\n",
    "print(f\"Execution time: {np.round(end_time - start_time, 2)} seconds\")"
   ]
  },
  {
   "cell_type": "code",
   "execution_count": 21,
   "metadata": {},
   "outputs": [],
   "source": [
    "# [WARN]: On Linux Mint 20, 16GB RAM, 2GB swap space, the kernel crashes as it runs out of memory for N = 1.0e9\n",
    "N = 10**8\n",
    "# TODO: save large random arrays\n",
    "np.random.seed(10010)\n",
    "samples_re = np.random.uniform(low = re_low, high = re_high, size = N)\n",
    "samples_im = np.random.uniform(low = im_low, high = im_high, size = N)\n",
    "samples = samples_re + 1j*samples_im\n",
    "# haha yes manual memory management in Python\n",
    "del samples_re\n",
    "del samples_im  \n",
    "iter_counts = np.zeros(N, dtype=np.int32)"
   ]
  },
  {
   "cell_type": "code",
   "execution_count": 22,
   "metadata": {},
   "outputs": [
    {
     "name": "stdout",
     "output_type": "stream",
     "text": [
      "25.236763122999946\n",
      "1.5105324599999999\n"
     ]
    }
   ],
   "source": [
    "start_time = timer()\n",
    "count = mandelbrot_mc(i,samples)\n",
    "end_time = timer()\n",
    "print(end_time - start_time)\n",
    "print(count / N * area)"
   ]
  }
 ],
 "metadata": {
  "kernelspec": {
   "display_name": "Python 3",
   "language": "python",
   "name": "python3"
  },
  "language_info": {
   "codemirror_mode": {
    "name": "ipython",
    "version": 3
   },
   "file_extension": ".py",
   "mimetype": "text/x-python",
   "name": "python",
   "nbconvert_exporter": "python",
   "pygments_lexer": "ipython3",
   "version": "3.8.5"
  }
 },
 "nbformat": 4,
 "nbformat_minor": 4
}
