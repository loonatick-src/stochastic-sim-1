{
 "cells": [
  {
   "cell_type": "code",
   "execution_count": 11,
   "metadata": {},
   "outputs": [],
   "source": [
    "import numpy as np\n",
    "from numba import jit, vectorize, float64, prange\n",
    "from timeit import default_timer as timer\n",
    "import matplotlib.pyplot as plt"
   ]
  },
  {
   "cell_type": "code",
   "execution_count": 12,
   "metadata": {},
   "outputs": [],
   "source": [
    "@jit(nopython = True)\n",
    "def default_escape_cond(z_re, z_im):\n",
    "    return (z_re * z_re + z_im * z_im >= 4)\n",
    "\n",
    "def mandelbrot_point_factory(max_iter, escape_condition):\n",
    "    @jit(nopython=True)\n",
    "    def _mandelbrot(c_re, c_im):\n",
    "        z_re, z_im = c_re, c_im\n",
    "        for count in range(max_iter):\n",
    "            z_re = z_re*z_re - z_im*z_im + c_re\n",
    "            z_im = 2*z_re*z_im + c_im\n",
    "            if (escape_condition(z_re, z_im)):\n",
    "                return count\n",
    "        return count\n",
    "    \n",
    "    return _mandelbrot"
   ]
  },
  {
   "cell_type": "code",
   "execution_count": 20,
   "metadata": {},
   "outputs": [],
   "source": [
    "@jit(nopython = True, parallel = True, nogil = True)\n",
    "def mandelbrot_mc(max_iter, samples_count, samples):\n",
    "    \"\"\"\n",
    "    TODO: Add docstring\n",
    "    \"\"\"\n",
    "    set_count = 0\n",
    "    for i in prange(samples_count):\n",
    "        c = samples[i]\n",
    "        zn = c\n",
    "        for j in range(1, max_iter):\n",
    "            zn = zn*zn + c\n",
    "            if (np.abs(zn) > 2):\n",
    "                # numba should recognize this as a critical section\n",
    "                break\n",
    "            elif j == max_iter - 1:\n",
    "                set_count += 1\n",
    "    return set_count\n",
    "\n",
    "@jit(nopython = True, nogil = True, parallel = True)\n",
    "def mandelbrot_mc_area(re_low, re_high, im_low, im_high, max_iter, samples_count, samples):\n",
    "    \"\"\"\n",
    "    TODO: Add docstring\n",
    "    \"\"\"\n",
    "    count = mandelbrot_mc(max_iter, samples_count, samples)\n",
    "    return mandelbrot_area(count, samples_count, re_low, re_high, im_low, im_high)\n",
    "\n",
    "@jit(nopython = True)\n",
    "def mandelbrot_area(count, N, re_low, re_high, im_low, im_high):\n",
    "    \"\"\"\n",
    "    TODO: Add docstring\n",
    "    \"\"\"\n",
    "    rect_area = (re_high - re_low) * (im_high - im_low)\n",
    "    return rect_area * count / N\n",
    "\n",
    "@jit(nopython = True)\n",
    "def mandelbrot_mc_runs(max_iter, samples_count, samples, runs_count):\n",
    "    counts = np.zeros(runs_count)\n",
    "    for _ in range(runs_count):\n",
    "        counts[i] = mandelbrot_mc(max_iter, samples_count, samples)\n",
    "    return counts\n",
    "\n",
    "@jit(nopython = True)\n",
    "def sample_mean_variance(counts):\n",
    "    \"\"\"Returns sample mean and sample variance of input array\n",
    "    Parameters\n",
    "    ----------\n",
    "    counts: array of numbers\n",
    "    \n",
    "    Returns: 2-tuple (sample mean, sample variance)\n",
    "    \"\"\"\n",
    "    n = len(counts)\n",
    "    assert n > 1\n",
    "    sample_mean = np.mean(counts)\n",
    "    sample_variance = np.sum(np.power(counts - sample_mean, 2))/(n - 1)\n",
    "    return (sample_mean, sample_variance)\n",
    "\n",
    "def vary_iter_counts(max_iters, max_iter, samples_count,\n",
    "                     re_low, re_hi, im_low, im_hi, runs_count):\n",
    "    for i in max_iters:\n",
    "        samples_re = np.random.uniform(low = re_low, high = re_hi, size = samples_count)\n",
    "        samples_re = np.random.uniform(low = im_low, high = im_hi, size = samples_count)\n",
    "        samples = samples_re + 1j*samples_im\n",
    "        \n",
    "    "
   ]
  },
  {
   "cell_type": "code",
   "execution_count": 18,
   "metadata": {},
   "outputs": [],
   "source": [
    "N = 10**6  # Full HD Mandelbrot set\n",
    "i = 1000\n",
    "re_low, re_high = -2., 1.\n",
    "im_low, im_high = -1.5, 1.5\n",
    "area = (re_high - re_low) * (im_high - im_low)\n",
    "np.random.seed(2398475)\n",
    "samples_re = np.random.uniform(low = re_low, high = re_high, size = N)\n",
    "samples_im = np.random.uniform(low = im_low, high = im_high, size = N)\n",
    "samples = samples_re + 1j*samples_im\n",
    "iter_counts = np.zeros(N)"
   ]
  },
  {
   "cell_type": "code",
   "execution_count": 19,
   "metadata": {},
   "outputs": [
    {
     "name": "stdout",
     "output_type": "stream",
     "text": [
      "Execution time: 0.36 seconds\n",
      "1.512234\n"
     ]
    }
   ],
   "source": [
    "start_time = timer()\n",
    "count = mandelbrot_mc(i, N, samples, iter_counts)\n",
    "end_time = timer()\n",
    "print(f\"Execution time: {np.round(end_time - start_time, 2)} seconds\")\n",
    "print(mandelbrot_area(count, N, re_low, re_high, im_low, im_high))"
   ]
  },
  {
   "cell_type": "code",
   "execution_count": 7,
   "metadata": {},
   "outputs": [],
   "source": [
    "mandelbrot_indices = np.where(iter_counts == i-1)\n",
    "mandelbrot_subset_re = samples_re[mandelbrot_indices]\n",
    "mandelbrot_subset_im = samples_im[mandelbrot_indices]"
   ]
  },
  {
   "cell_type": "code",
   "execution_count": 8,
   "metadata": {},
   "outputs": [
    {
     "data": {
      "image/png": "[encoded data removed]",
      "text/plain": [
       "<Figure size 640x480 with 1 Axes>"
      ]
     },
     "metadata": {},
     "output_type": "display_data"
    }
   ],
   "source": [
    "plt.scatter(mandelbrot_subset_re, mandelbrot_subset_im)\n",
    "plt.show()"
   ]
  },
  {
   "cell_type": "code",
   "execution_count": 9,
   "metadata": {},
   "outputs": [],
   "source": [
    "# [WARN]: On Linux Mint 20, 16GB RAM, 2GB swap space, the kernel crashes as it runs out of memory for N = 1.0e9\n",
    "N = 10**8\n",
    "np.random.seed(10010)\n",
    "samples_re = np.random.uniform(low = re_low, high = re_high, size = N)\n",
    "samples_im = np.random.uniform(low = im_low, high = im_high, size = N)\n",
    "samples = samples_re + 1j*samples_im\n",
    "iter_counts = np.zeros(N, dtype=np.int32)"
   ]
  },
  {
   "cell_type": "code",
   "execution_count": 49,
   "metadata": {},
   "outputs": [
    {
     "name": "stdout",
     "output_type": "stream",
     "text": [
      "9.812271489998238\n",
      "1.5219909\n"
     ]
    }
   ],
   "source": [
    "start_time = timer()\n",
    "count = mandelbrot_mc(i, N, samples, iter_counts)\n",
    "end_time = timer()\n",
    "print(end_time - start_time)\n",
    "print(count / N * area)"
   ]
  }
 ],
 "metadata": {
  "kernelspec": {
   "display_name": "Python 3",
   "language": "python",
   "name": "python3"
  },
  "language_info": {
   "codemirror_mode": {
    "name": "ipython",
    "version": 3
   },
   "file_extension": ".py",
   "mimetype": "text/x-python",
   "name": "python",
   "nbconvert_exporter": "python",
   "pygments_lexer": "ipython3",
   "version": "3.8.5"
  }
 },
 "nbformat": 4,
 "nbformat_minor": 4
}
