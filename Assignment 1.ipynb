{
 "cells": [
  {
   "cell_type": "markdown",
   "id": "8dbd71ed",
   "metadata": {},
   "source": [
    "# Stochastic Simulation: Assignment 1\n",
    "## Approximating the area of the Mandelbrot set"
   ]
  },
  {
   "cell_type": "markdown",
   "id": "360fbc4f",
   "metadata": {},
   "source": [
    "1. Study the problem, implement the iteration and maybe create colourful pictures  of the fractal. \n",
    "2. Monte Carlo: investigate a convergence of estimate of the Mandelbrot set area to the area of the Mandelbrot set. Errors cased by fitness of i and s.\n",
    "3. Compute the quality of the obtained result.\n",
    "4. Formulate and test a method to further improve the convergence rate of the Monte Carlo approach."
   ]
  },
  {
   "cell_type": "code",
   "execution_count": 2,
   "id": "74df801f",
   "metadata": {},
   "outputs": [],
   "source": [
    "import numpy as np\n",
    "from PIL import Image\n",
    "import colorsys\n",
    "import math\n",
    "import os"
   ]
  },
  {
   "cell_type": "markdown",
   "id": "09cb22d4",
   "metadata": {},
   "source": [
    "### To-do:\n",
    "\n",
    "- zoom into to show the fractal closer"
   ]
  },
  {
   "cell_type": "code",
   "execution_count": 3,
   "id": "26631c12",
   "metadata": {},
   "outputs": [],
   "source": [
    "def Mandelbrot_set(c, Max_iter):\n",
    "    z = N_iter = 0\n",
    "    while abs(z) <= 2 and N_iter < Max_iter:\n",
    "        z = z**2 + c\n",
    "        N_iter += 1\n",
    "    return N_iter"
   ]
  },
  {
   "cell_type": "code",
   "execution_count": 4,
   "id": "55f1efdc",
   "metadata": {},
   "outputs": [],
   "source": [
    "def Power_color(Distance, Exp, Const, Scale):\n",
    "    Color = Distance**Exp\n",
    "    return tuple(round(i * 255) for i in colorsys.hsv_to_rgb(Const + Scale * Color, 1 - 0.6 * Color, 0.9))"
   ]
  },
  {
   "cell_type": "code",
   "execution_count": 5,
   "id": "867de072",
   "metadata": {},
   "outputs": [],
   "source": [
    "def Mandelbrot_render(x, y, Width, x_Range, Aspect_Ratio, Max_iter):\n",
    "    y_Range = x_Range / Aspect_Ratio\n",
    "    Hight = round(Width / Aspect_Ratio)\n",
    "    Min_x = x - x_Range / 2\n",
    "    Max_X = x + x_Range / 2\n",
    "    Min_Y = y - y_Range / 2\n",
    "    Max_Y = y + y_Range / 2\n",
    "    \n",
    "    mandelbrot_img = Image.new('RGB', (Width, Hight), color = 'black')\n",
    "    pix = mandelbrot_img.load()\n",
    "    \n",
    "    for row in range(height):\n",
    "        for col in range(width):\n",
    "            x = Min_x + col * x_Range / Width\n",
    "            y = Max_Y - row * y_Range / Hight\n",
    "            old_X = x\n",
    "            old_Y = y\n",
    "            \n",
    "            for i in range(Max_iter + 1):\n",
    "                a = x*x - y*y \n",
    "                b = 2 * x * y\n",
    "                x = a + old_X\n",
    "                y = b + old_Y\n",
    "                if x*x + y*y > 4:\n",
    "                    break\n",
    "                \n",
    "            if i < Max_iter:\n",
    "                Distance = (i + 1) / (Max_iter + 1)\n",
    "                rgb = Power_color(Distance, 0.2, 0.27, 1.0)\n",
    "                pix[col, row] = rgb\n",
    "            index = row * Width + col + 1\n",
    "            #print(\"{} / {}, {}%\".format(index, Width * Height, round(index / Width / Height * 100 * 10) / 10))\n",
    "    \n",
    "    mandelbrot_img.save('mandelbrot.png')  \n",
    "    "
   ]
  },
  {
   "cell_type": "code",
   "execution_count": 17,
   "id": "e3ae0bda",
   "metadata": {},
   "outputs": [],
   "source": [
    " Mandelbrot_render(x = -0.65 , y = 0, Width = 1000, x_Range = 3.4, Aspect_Ratio = 4/3, Max_iter = 500)"
   ]
  },
  {
   "cell_type": "code",
   "execution_count": null,
   "id": "5b299797",
   "metadata": {},
   "outputs": [],
   "source": []
  },
  {
   "cell_type": "code",
   "execution_count": null,
   "id": "20df9d73",
   "metadata": {},
   "outputs": [],
   "source": []
  }
 ],
 "metadata": {
  "kernelspec": {
   "display_name": "Python 3 (ipykernel)",
   "language": "python",
   "name": "python3"
  },
  "language_info": {
   "codemirror_mode": {
    "name": "ipython",
    "version": 3
   },
   "file_extension": ".py",
   "mimetype": "text/x-python",
   "name": "python",
   "nbconvert_exporter": "python",
   "pygments_lexer": "ipython3",
   "version": "3.8.12"
  }
 },
 "nbformat": 4,
 "nbformat_minor": 5
}
