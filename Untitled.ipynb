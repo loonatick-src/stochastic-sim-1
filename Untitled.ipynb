{
 "cells": [
  {
   "cell_type": "code",
   "execution_count": 3,
   "metadata": {},
   "outputs": [],
   "source": [
    "import numpy as np\n",
    "from numba import jit, vectorize, float64, prange\n",
    "from timeit import default_timer as timer"
   ]
  },
  {
   "cell_type": "code",
   "execution_count": 36,
   "metadata": {},
   "outputs": [],
   "source": [
    "@jit(nopython = True)\n",
    "def default_escape_cond(z_re, z_im):\n",
    "    return (z_re * z_re + z_im * z_im >= 4)\n",
    "\n",
    "def mandelbrot_point_factory(max_iter, escape_condition):\n",
    "    @jit(nopython=True)\n",
    "    def _mandelbrot(c_re, c_im):\n",
    "        z_re, z_im = c_re, c_im\n",
    "        for count in range(max_iter):\n",
    "            z_re = z_re*z_re - z_im*z_im + c_re\n",
    "            z_im = 2*z_re*z_im + c_im\n",
    "            if (escape_condition(z_re, z_im)):\n",
    "                return count\n",
    "        return count\n",
    "    \n",
    "    return _mandelbrot"
   ]
  },
  {
   "cell_type": "code",
   "execution_count": 40,
   "metadata": {},
   "outputs": [],
   "source": [
    "@jit(nopython = True, parallel = True, nogil = True)\n",
    "def mandelbrot_mc(max_iter, samples_count, samples_re, samples_im):\n",
    "    \"\"\"\n",
    "    TODO: Add docstring\n",
    "    \"\"\"\n",
    "    set_count = 0\n",
    "    for i in prange(samples_count):\n",
    "        c_re = samples_re[i]\n",
    "        c_im = samples_re[i]\n",
    "        zn_re = c_re\n",
    "        zn_im = c_im\n",
    "        for _ in range(1, max_iter):\n",
    "            zn_re = zn_re * zn_re - zn_im * zn_im + c_re\n",
    "            zn_im = 2 * zn_re * zn_im + c_im\n",
    "            if (zn_re * zn_re + zn_im * zn_im >= 4):\n",
    "                # numba should recognize this as a critical section\n",
    "                set_count += 1  \n",
    "                break\n",
    "    return set_count\n",
    "\n",
    "@jit(nopython = True)\n",
    "def mandelbrot_area(count, N, re_low, re_high, im_low, im_high):\n",
    "    rect_area = (re_high - re_low) * (im_high - im_low)\n",
    "    return rect_area * count / N"
   ]
  },
  {
   "cell_type": "code",
   "execution_count": 54,
   "metadata": {},
   "outputs": [],
   "source": [
    "N = 1920*1080  # Full HD Mandelbrot set\n",
    "i = 256\n",
    "re_low, re_high = -2., 1.\n",
    "im_low, im_high = -1.5, 1.5\n",
    "area = (re_high - re_low) * (im_high - im_low)\n",
    "np.random.seed(1337)\n",
    "samples_re = np.random.uniform(low = re_low, high = re_high, size = N)\n",
    "samples_im = np.random.uniform(low = im_low, high = im_high, size = N)"
   ]
  },
  {
   "cell_type": "code",
   "execution_count": 55,
   "metadata": {},
   "outputs": [
    {
     "name": "stdout",
     "output_type": "stream",
     "text": [
      "5.69296875\n"
     ]
    }
   ],
   "source": [
    "start_time = timer()\n",
    "count = mandelbrot_mc(i, N, samples_re, samples_im)\n",
    "end_time = timer()\n",
    "print(mandelbrot_area(count, N, re_low, re_high, im_low, im_high))"
   ]
  },
  {
   "cell_type": "code",
   "execution_count": 56,
   "metadata": {},
   "outputs": [],
   "source": [
    "# [WARN]: On Linux Mint 20, 16GB RAM, 2GB swap space, the kernel crashes as it runs out of memory for N = 1.0e9\n",
    "N = 10**8\n",
    "np.random.seed(10010)\n",
    "samples_re = np.random.uniform(low = re_low, high = re_high, size = N)\n",
    "samples_im = np.random.uniform(low = im_low, high = im_high, size = N)\n",
    "iter_counts = np.zeros(N, dtype=np.int32)"
   ]
  },
  {
   "cell_type": "code",
   "execution_count": 57,
   "metadata": {},
   "outputs": [
    {
     "name": "stdout",
     "output_type": "stream",
     "text": [
      "5.082541241001309\n",
      "5.69271096\n"
     ]
    }
   ],
   "source": [
    "start_time = timer()\n",
    "count = mandelbrot_mc(i, N, samples_re, samples_im)\n",
    "end_time = timer()\n",
    "print(end_time - start_time)\n",
    "print(count / N * area)"
   ]
  },
  {
   "cell_type": "code",
   "execution_count": 32,
   "metadata": {},
   "outputs": [
    {
     "name": "stdout",
     "output_type": "stream",
     "text": [
      "0.60970228\n"
     ]
    }
   ],
   "source": [
    "print(count / N)"
   ]
  }
 ],
 "metadata": {
  "kernelspec": {
   "display_name": "Python 3",
   "language": "python",
   "name": "python3"
  },
  "language_info": {
   "codemirror_mode": {
    "name": "ipython",
    "version": 3
   },
   "file_extension": ".py",
   "mimetype": "text/x-python",
   "name": "python",
   "nbconvert_exporter": "python",
   "pygments_lexer": "ipython3",
   "version": "3.8.5"
  }
 },
 "nbformat": 4,
 "nbformat_minor": 4
}
