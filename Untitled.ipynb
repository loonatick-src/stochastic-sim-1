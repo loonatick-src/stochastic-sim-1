{
 "cells": [
  {
   "cell_type": "code",
   "execution_count": 1,
   "metadata": {},
   "outputs": [],
   "source": [
    "import numpy as np\n",
    "from numba import jit, vectorize, float64, prange\n",
    "from timeit import default_timer as timer"
   ]
  },
  {
   "cell_type": "code",
   "execution_count": 2,
   "metadata": {},
   "outputs": [],
   "source": [
    "@jit(nopython = True, nogil=True)#, parallel = True)\n",
    "def mandelbrot_mc(max_iter, samples_count, samples_re, samples_im, iter_counts):\n",
    "    \"\"\"\n",
    "    TODO: Add docstring\n",
    "    \"\"\"\n",
    "    for i in prange(samples_count):\n",
    "        c_re = samples_re[i]\n",
    "        c_im = samples_re[i]\n",
    "        zn_re = c_re\n",
    "        zn_im = c_im\n",
    "        count = 1\n",
    "        while(count < max_iter):\n",
    "            # z_n = z_{n-1}^2 + c\n",
    "            # z = re + j*im\n",
    "            # z^2 = re^2 - im^2 + j*2 re im\n",
    "            zn_re = zn_re * zn_re - zn_im * zn_im + c_re\n",
    "            zn_im = 2 * zn_re * zn_im\n",
    "            if (zn_re * zn_re + zn_im * zn_im >= 4):\n",
    "                break\n",
    "            count += 1\n",
    "            \n",
    "        iter_counts[i] = count"
   ]
  },
  {
   "cell_type": "code",
   "execution_count": 3,
   "metadata": {},
   "outputs": [],
   "source": [
    "N = 1920*1080  # Full HD Mandelbrot set\n",
    "i = 50\n",
    "re_low, re_high = -2., 1.\n",
    "im_low, im_high = -1.5, 1.5\n",
    "samples_re = np.random.uniform(low = re_low, high = re_high, size = N)\n",
    "samples_im = np.random.uniform(low = im_low, high = im_high, size = N)\n",
    "iter_counts = np.zeros(N, dtype=np.int32)\n"
   ]
  },
  {
   "cell_type": "code",
   "execution_count": 4,
   "metadata": {},
   "outputs": [
    {
     "name": "stdout",
     "output_type": "stream",
     "text": [
      "[0 0 0 ... 0 0 0]\n",
      "[ 1  1 38 ...  4 50  3]\n",
      "0.7108009910002693\n"
     ]
    }
   ],
   "source": [
    "print(iter_counts)\n",
    "start_time = timer()\n",
    "mandelbrot_mc(i, N, samples_re, samples_im, iter_counts)\n",
    "end_time = timer()\n",
    "print(iter_counts)\n",
    "print(end_time - start_time)"
   ]
  },
  {
   "cell_type": "code",
   "execution_count": 5,
   "metadata": {},
   "outputs": [],
   "source": [
    "N = 10**8\n",
    "samples_re = np.random.uniform(low = re_low, high = re_high, size = N)\n",
    "samples_im = np.random.uniform(low = im_low, high = im_high, size = N)\n",
    "iter_counts = np.zeros(N, dtype=np.int32)"
   ]
  },
  {
   "cell_type": "code",
   "execution_count": 6,
   "metadata": {},
   "outputs": [
    {
     "name": "stdout",
     "output_type": "stream",
     "text": [
      "16.463008056000035\n"
     ]
    }
   ],
   "source": [
    "start_time = timer()\n",
    "mandelbrot_mc(i, N, samples_re, samples_im, iter_counts)\n",
    "end_time = timer()\n",
    "print(end_time - start_time)"
   ]
  }
 ],
 "metadata": {
  "kernelspec": {
   "display_name": "Python 3",
   "language": "python",
   "name": "python3"
  },
  "language_info": {
   "codemirror_mode": {
    "name": "ipython",
    "version": 3
   },
   "file_extension": ".py",
   "mimetype": "text/x-python",
   "name": "python",
   "nbconvert_exporter": "python",
   "pygments_lexer": "ipython3",
   "version": "3.8.5"
  }
 },
 "nbformat": 4,
 "nbformat_minor": 4
}
